{
 "cells": [
  {
   "cell_type": "markdown",
   "metadata": {},
   "source": [
    "# Object Oriented Programming - Lab"
   ]
  },
  {
   "cell_type": "markdown",
   "metadata": {},
   "source": [
    "## Introduction\n",
    "\n",
    "In this lab, you will apply your knowledge of inheritance in object-oriented programming (OOP) to solve a real-world problem. You will be working on a project for a library management system, where you need to create a class hierarchy to represent different types of library items."
   ]
  },
  {
   "cell_type": "markdown",
   "metadata": {},
   "source": [
    "## Objectives\n",
    "\n",
    "You will be able to:\n",
    "\n",
    "- Define a parent/absract/super class\n",
    "- Define specific attributes and methods\n",
    "- Define child/sub classes using inheritance\n",
    "- Instantiate objects and access/run attributes and methods"
   ]
  },
  {
   "cell_type": "markdown",
   "metadata": {},
   "source": [
    "## Step 1\n",
    "\n",
    "Define the LibraryItem base class and implement the __init__ method. It should set the following attributes:\n",
    "- title: The title of the library item (string)\n",
    "- author: The author of the library item (string)\n",
    "- publication_year: The year the library item was published (integer)\n",
    "- is_available: Indicates if the item is currently available for checkout should default to True (boolean)"
   ]
  },
  {
   "cell_type": "code",
   "execution_count": null,
   "metadata": {},
   "outputs": [],
   "source": [
    "# CodeGrade step1\n",
    "# Replace none with your code\n",
    "# Define the class and create the __init__ method\n",
    "class LibraryItem():\n",
    "    def __init__(self, None):\n",
    "        None\n",
    "        None\n",
    "        None\n",
    "        None"
   ]
  },
  {
   "cell_type": "markdown",
   "metadata": {},
   "source": [
    "## Step 2\n",
    "\n",
    "Define and implement the following methods within the class. You should copy your completed code from above to start.\n",
    "- display_info: Prints the information/attributes of the object using f-string formatting\n",
    "- checkout: Changes the is_available attribute to False\n",
    "- return_item: Changes the is_available attribute to True"
   ]
  },
  {
   "cell_type": "code",
   "execution_count": 1,
   "metadata": {},
   "outputs": [],
   "source": [
    "# CodeGrade step2\n",
    "# Define and implement the three methods within your class\n",
    "# Copy your init method from step 1\n",
    "None"
   ]
  },
  {
   "cell_type": "markdown",
   "metadata": {},
   "source": [
    "## Step 3\n",
    "\n",
    "Create the Book derived class. It should inherit from the LibraryItem class. Implement a new __init__ method to initialize the attributes of the Book instance, calling the base class constructor using super() and adapting to include new attributes. Add the following attributes specific to books:\n",
    "- isbn: The ISBN number of the book (string)\n",
    "- publisher: The publisher of the book (string)\n",
    "\n",
    "Override the display_info method to display the book-specific information along with the other inherited attributes, you should be using super() here as well."
   ]
  },
  {
   "cell_type": "code",
   "execution_count": null,
   "metadata": {},
   "outputs": [],
   "source": [
    "# CodeGrade step3\n",
    "# Define new Book class that inherits from LibraryItem\n",
    "# Replace none with your code\n",
    "class Book(None):\n",
    "    def __init__(self, None):\n",
    "        None\n",
    "        None\n",
    "        None\n",
    "    \n",
    "    def display_info(self):\n",
    "        None\n",
    "        None"
   ]
  },
  {
   "cell_type": "markdown",
   "metadata": {},
   "source": [
    "## Step 4\n",
    "\n",
    "Create the Magazine derived class. It should inherit from the LibraryItem class. Implement the __init__ method to initialize the attributes of the Magazine instance, calling the base class constructor using super(). Add the following attributes specific to magazines:\n",
    "- issue_number: The issue number of the magazine (integer)\n",
    "- publication_month: The month of publication of the magazine (string)\n",
    "\n",
    "Override the display_info method to display the magazine-specific information along with the inherited attributes."
   ]
  },
  {
   "cell_type": "code",
   "execution_count": null,
   "metadata": {},
   "outputs": [],
   "source": [
    "# CodeGrade step4\n",
    "# Define new Magazine class that inherits from LibraryItem\n",
    "# Replace none with your code\n",
    "class Magazine(None):\n",
    "    def __init__(self, None):\n",
    "        None\n",
    "        None\n",
    "        None\n",
    "    \n",
    "    def display_info(self):\n",
    "        None\n",
    "        None"
   ]
  },
  {
   "cell_type": "markdown",
   "metadata": {},
   "source": [
    "## Step 5\n",
    "\n",
    "Create the DVD derived class. It should inherit from the LibraryItem class. Implement the __init__ method to initialize the attributes of the DVD instance, calling the base class constructor using super(). Add the following attributes specific to DVDs:\n",
    "\n",
    "- duration: The duration of the DVD in minutes (integer)\n",
    "- director: The director of the DVD (string)\n",
    "- genres: A set of genres for the DVD (set)\n",
    "- author: Set author default value to 'N/A'\n",
    "\n",
    "Define a new method specific to the DVD class, add_genre, that takes in a genre string (I.E. 'comedy') and adds it to the existing set. Don't forget to include self."
   ]
  },
  {
   "cell_type": "code",
   "execution_count": null,
   "metadata": {},
   "outputs": [],
   "source": [
    "# CodeGrade step5\n",
    "# Define new DVD class that inherits from LibraryItem\n",
    "# Replace none with your code\n",
    "class DVD(None):\n",
    "    def __init__(self, None):\n",
    "        None\n",
    "        None\n",
    "        None\n",
    "    \n",
    "    # New method\n",
    "    None"
   ]
  },
  {
   "cell_type": "markdown",
   "metadata": {},
   "source": [
    "## Step 6\n",
    "\n",
    "Test your implemented classes by instantiating different objects with the code below!\n",
    "\n",
    "- Call the display_info method on each instance to verify that the information is displayed correctly.\n",
    "\n",
    "Test the checkout and return_item methods to ensure they update the is_available attribute as expected.\n",
    "\n",
    "Test the add_genre method for your DVD object to ensure it is adding the genre to your set as expected."
   ]
  },
  {
   "cell_type": "code",
   "execution_count": null,
   "metadata": {},
   "outputs": [],
   "source": [
    "# Run this cell without changes\n",
    "book1 = Book(title='Dracula', author='Bram Stoker', publication_year=1897, \n",
    "             isbn=1000, publisher='Archibald')\n",
    "\n",
    "magazine1 = Magazine(title='Forbes', author='Unknown', publication_year=2021, \n",
    "                     issue_number=10, publication_month=2)\n",
    "\n",
    "dvd1 = DVD(title='The Matrix', publication_year=1999, duration=136, \n",
    "           director='The Wachowskis', genres={'action', 'sci-fi'})"
   ]
  },
  {
   "cell_type": "code",
   "execution_count": 2,
   "metadata": {},
   "outputs": [],
   "source": [
    "# Your code here\n",
    "None"
   ]
  },
  {
   "cell_type": "code",
   "execution_count": null,
   "metadata": {},
   "outputs": [],
   "source": [
    "# Your code here\n",
    "None"
   ]
  },
  {
   "cell_type": "code",
   "execution_count": null,
   "metadata": {},
   "outputs": [],
   "source": [
    "# Your code here\n",
    "None"
   ]
  },
  {
   "cell_type": "markdown",
   "metadata": {},
   "source": [
    "## Step 7\n",
    "\n",
    "Evaluate and refine if your code is not producing the desired results above. Review your implementation and consider any potential improvements or additional features that could be added to the library management system. Here are just a few potential examples and thoughts. You do not need to implement any of these for this assessment.\n",
    "\n",
    "- It might make sense in the checkout method to include a check for if the item is currently available or not.\n",
    "- Data validations and string standarization for specific attributes.\n",
    "- Implement a database system to store all of our objects so that we can then search.\n",
    "- How might you handle multiple copies of the same item?\n",
    "\n",
    "Think about how you could further extend the class hierarchy to include more specific item types (e.g., Audiobook, Journal) or add additional methods for searching or sorting library items.\n"
   ]
  }
 ],
 "metadata": {
  "kernelspec": {
   "display_name": "Python (learn-env)",
   "language": "python",
   "name": "learn-env"
  },
  "language_info": {
   "codemirror_mode": {
    "name": "ipython",
    "version": 3
   },
   "file_extension": ".py",
   "mimetype": "text/x-python",
   "name": "python",
   "nbconvert_exporter": "python",
   "pygments_lexer": "ipython3",
   "version": "3.8.5"
  }
 },
 "nbformat": 4,
 "nbformat_minor": 4
}
